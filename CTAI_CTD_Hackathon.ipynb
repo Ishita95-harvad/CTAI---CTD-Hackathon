{
 "cells": [
  {
   "cell_type": "code",
   "execution_count": null,
   "id": "24fbbd08",
   "metadata": {
    "papermill": {
     "duration": 0.001344,
     "end_time": "2025-08-28T12:17:26.520705",
     "exception": false,
     "start_time": "2025-08-28T12:17:26.519361",
     "status": "completed"
    },
    "tags": []
   },
   "outputs": [],
   "source": []
  }
 ],
 "metadata": {
  "colab": {
   "provenance": []
  },
  "kaggle": {
   "accelerator": "gpu",
   "dataSources": [
    {
     "databundleVersionId": 13502461,
     "sourceId": 112393,
     "sourceType": "competition"
    },
    {
     "sourceId": 258558829,
     "sourceType": "kernelVersion"
    }
   ],
   "dockerImageVersionId": 31089,
   "isGpuEnabled": true,
   "isInternetEnabled": true,
   "language": "python",
   "sourceType": "notebook"
  },
  "kernelspec": {
   "display_name": "Python 3",
   "language": "python",
   "name": "python3"
  },
  "language_info": {
   "codemirror_mode": {
    "name": "ipython",
    "version": 3
   },
   "file_extension": ".py",
   "mimetype": "text/x-python",
   "name": "python",
   "nbconvert_exporter": "python",
   "pygments_lexer": "ipython3",
   "version": "3.11.13"
  },
  "papermill": {
   "default_parameters": {},
   "duration": 4.343277,
   "end_time": "2025-08-28T12:17:26.839651",
   "environment_variables": {},
   "exception": null,
   "input_path": "__notebook__.ipynb",
   "output_path": "__notebook__.ipynb",
   "parameters": {},
   "start_time": "2025-08-28T12:17:22.496374",
   "version": "2.6.0"
  }
 },
 "nbformat": 4,
 "nbformat_minor": 5
}
